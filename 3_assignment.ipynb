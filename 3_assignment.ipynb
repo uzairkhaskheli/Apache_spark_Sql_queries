{
 "cells": [
  {
   "cell_type": "code",
   "execution_count": 1,
   "id": "231b3bdb-5eeb-4c22-98b9-d757274ee6a3",
   "metadata": {},
   "outputs": [],
   "source": [
    "import pyspark\n",
    "from pyspark import SparkContext, SparkConf\n",
    "from pyspark.sql import SparkSession\n",
    "import pandas as pd\n",
    "from pyspark.sql.functions import col,max,count,sum,mean,stddev_pop,hour,countDistinct,expr,stddev,window,column\n",
    "from pyspark.ml.feature import RFormula\n",
    "from pyspark.ml.classification import LogisticRegression\n",
    "from pyspark.sql import Row\n",
    "import math"
   ]
  },
  {
   "cell_type": "code",
   "execution_count": 2,
   "id": "c70de691-8661-411b-acf0-cb932767ef03",
   "metadata": {},
   "outputs": [],
   "source": [
    "# sc.stop()\n",
    "\n",
    "# Initialization of SparkConf which is required for Spark Context\n",
    "conf = SparkConf().setAppName('myapp').setMaster('local')\n",
    "\n",
    "# Initialization of SparkContext\n",
    "sc = SparkContext().getOrCreate(conf=conf)\n",
    "sc.setLogLevel(\"OFF\")\n",
    "\n",
    "# Initialization of SparkSession into spark variable\n",
    "spark = SparkSession(sc)"
   ]
  },
  {
   "cell_type": "markdown",
   "id": "bf869b77-9960-4bb3-8a5d-1c48d893beb4",
   "metadata": {
    "tags": []
   },
   "source": [
    "# Assignment 3"
   ]
  },
  {
   "cell_type": "code",
   "execution_count": 3,
   "id": "7c25c5f4-a07b-453f-ac80-a010f73000a4",
   "metadata": {},
   "outputs": [
    {
     "name": "stdout",
     "output_type": "stream",
     "text": [
      "+---------+---------+--------------------+--------+-------------------+---------+----------+--------------+\n",
      "|InvoiceNo|StockCode|         Description|Quantity|        InvoiceDate|UnitPrice|CustomerID|       Country|\n",
      "+---------+---------+--------------------+--------+-------------------+---------+----------+--------------+\n",
      "|   536365|   85123A|WHITE HANGING HEA...|       6|2010-12-01 08:26:00|     2.55|   17850.0|United Kingdom|\n",
      "|   536365|    71053| WHITE METAL LANTERN|       6|2010-12-01 08:26:00|     3.39|   17850.0|United Kingdom|\n",
      "|   536365|   84406B|CREAM CUPID HEART...|       8|2010-12-01 08:26:00|     2.75|   17850.0|United Kingdom|\n",
      "|   536365|   84029G|KNITTED UNION FLA...|       6|2010-12-01 08:26:00|     3.39|   17850.0|United Kingdom|\n",
      "|   536365|   84029E|RED WOOLLY HOTTIE...|       6|2010-12-01 08:26:00|     3.39|   17850.0|United Kingdom|\n",
      "|   536365|    22752|SET 7 BABUSHKA NE...|       2|2010-12-01 08:26:00|     7.65|   17850.0|United Kingdom|\n",
      "|   536365|    21730|GLASS STAR FROSTE...|       6|2010-12-01 08:26:00|     4.25|   17850.0|United Kingdom|\n",
      "|   536366|    22633|HAND WARMER UNION...|       6|2010-12-01 08:28:00|     1.85|   17850.0|United Kingdom|\n",
      "|   536366|    22632|HAND WARMER RED P...|       6|2010-12-01 08:28:00|     1.85|   17850.0|United Kingdom|\n",
      "|   536367|    84879|ASSORTED COLOUR B...|      32|2010-12-01 08:34:00|     1.69|   13047.0|United Kingdom|\n",
      "|   536367|    22745|POPPY'S PLAYHOUSE...|       6|2010-12-01 08:34:00|      2.1|   13047.0|United Kingdom|\n",
      "|   536367|    22748|POPPY'S PLAYHOUSE...|       6|2010-12-01 08:34:00|      2.1|   13047.0|United Kingdom|\n",
      "|   536367|    22749|FELTCRAFT PRINCES...|       8|2010-12-01 08:34:00|     3.75|   13047.0|United Kingdom|\n",
      "|   536367|    22310|IVORY KNITTED MUG...|       6|2010-12-01 08:34:00|     1.65|   13047.0|United Kingdom|\n",
      "|   536367|    84969|BOX OF 6 ASSORTED...|       6|2010-12-01 08:34:00|     4.25|   13047.0|United Kingdom|\n",
      "|   536367|    22623|BOX OF VINTAGE JI...|       3|2010-12-01 08:34:00|     4.95|   13047.0|United Kingdom|\n",
      "|   536367|    22622|BOX OF VINTAGE AL...|       2|2010-12-01 08:34:00|     9.95|   13047.0|United Kingdom|\n",
      "|   536367|    21754|HOME BUILDING BLO...|       3|2010-12-01 08:34:00|     5.95|   13047.0|United Kingdom|\n",
      "|   536367|    21755|LOVE BUILDING BLO...|       3|2010-12-01 08:34:00|     5.95|   13047.0|United Kingdom|\n",
      "|   536367|    21777|RECIPE BOX WITH M...|       4|2010-12-01 08:34:00|     7.95|   13047.0|United Kingdom|\n",
      "+---------+---------+--------------------+--------+-------------------+---------+----------+--------------+\n",
      "only showing top 20 rows\n",
      "\n"
     ]
    }
   ],
   "source": [
    "# Displaying Dataset\n",
    "dataframe = spark.read.csv('retail_data.csv', header=True, inferSchema=True)\n",
    "dataframe.createTempView('retail_data')\n",
    "dataframe.show()"
   ]
  },
  {
   "cell_type": "markdown",
   "id": "eac58462-05c2-4bb5-80d3-e06ca8991459",
   "metadata": {},
   "source": [
    "### How many orders did customers perform at which hour? (SQL)"
   ]
  },
  {
   "cell_type": "code",
   "execution_count": 21,
   "id": "87038c3d-dbb3-4feb-8ead-a45fa7bbdb25",
   "metadata": {},
   "outputs": [
    {
     "name": "stdout",
     "output_type": "stream",
     "text": [
      "+----+------+\n",
      "|HOUR|Orders|\n",
      "+----+------+\n",
      "|  12|    23|\n",
      "|  13|    12|\n",
      "|  16|    17|\n",
      "|  15|    15|\n",
      "|   9|    18|\n",
      "|  17|     6|\n",
      "|   8|     6|\n",
      "|  10|    12|\n",
      "|  11|    13|\n",
      "|  14|    21|\n",
      "+----+------+\n",
      "\n",
      "+----+----------------+\n",
      "|HOUR|count(InvoiceNo)|\n",
      "+----+----------------+\n",
      "|  12|              23|\n",
      "|  13|              12|\n",
      "|  16|              17|\n",
      "|  15|              15|\n",
      "|   9|              18|\n",
      "|  17|               6|\n",
      "|   8|               6|\n",
      "|  10|              12|\n",
      "|  11|              13|\n",
      "|  14|              21|\n",
      "+----+----------------+\n",
      "\n"
     ]
    }
   ],
   "source": [
    "spark.sql(\"select HOUR(InvoiceDate) AS HOUR, COUNT(DISTINCT(InvoiceNo)) AS Orders from retail_data group by HOUR(InvoiceDate)\").show()\n",
    "dataframe.select(\"InvoiceNo\", hour(\"InvoiceDate\").alias(\"HOUR\")).groupBy(\"HOUR\").agg(countDistinct(\"InvoiceNo\")).alias(\"Orders\").show()\n",
    "\n",
    "# dataframe.select(\"InvoiceNo\", hour(\"InvoiceDate\").alias(\"HOUR\")).groupBy(\"InvoiceNo\",\"HOUR\").agg(countDistinct(\"InvoiceNo\")).alias(\"Orders\").show()\n",
    "# spark.sql(\"select StockCode,HOUR(InvoiceDate) AS HOUR, COUNT(DISTINCT(InvoiceNo)) AS Orders from retail_data group by StockCode,HOUR(InvoiceDate)\").show()\n",
    "# spark.sql(\"select CustomerID,InvoiceNo, COUNT(InvoiceNo) AS Orders from retail_data where CustomerId is not null group by CustomerID,InvoiceNo\").show()"
   ]
  },
  {
   "cell_type": "markdown",
   "id": "02774e7d-41a2-4090-8233-dfd0e1c1f10b",
   "metadata": {},
   "source": [
    "### How frequently was each product bought in different countries? (SQL)"
   ]
  },
  {
   "cell_type": "code",
   "execution_count": 22,
   "id": "25be5b49-ac87-41d8-a096-f5d7d7809de4",
   "metadata": {},
   "outputs": [
    {
     "name": "stdout",
     "output_type": "stream",
     "text": [
      "+--------------+---------+-----+\n",
      "|       Country|StockCode|Count|\n",
      "+--------------+---------+-----+\n",
      "|United Kingdom|    22154|    1|\n",
      "|United Kingdom|    22478|    1|\n",
      "|United Kingdom|    22844|    3|\n",
      "|United Kingdom|    22768|    4|\n",
      "|United Kingdom|    16238|    3|\n",
      "|United Kingdom|    22916|    3|\n",
      "|United Kingdom|    21704|    2|\n",
      "|United Kingdom|        M|    2|\n",
      "|United Kingdom|   35271S|    1|\n",
      "|United Kingdom|    70007|    4|\n",
      "|       Germany|    22242|    2|\n",
      "|United Kingdom|    72741|    4|\n",
      "|United Kingdom|   84534B|    1|\n",
      "|United Kingdom|    22342|    1|\n",
      "|United Kingdom|   46776B|    1|\n",
      "|United Kingdom|    21816|    1|\n",
      "|United Kingdom|    22375|    1|\n",
      "|United Kingdom|   85232B|    5|\n",
      "|United Kingdom|   84596E|    1|\n",
      "|United Kingdom|    21851|    2|\n",
      "+--------------+---------+-----+\n",
      "only showing top 20 rows\n",
      "\n"
     ]
    }
   ],
   "source": [
    " spark.sql(\"select Country, StockCode, Count(*) as Count from retail_data group by StockCode, Country\").show()"
   ]
  },
  {
   "cell_type": "markdown",
   "id": "771ae745-5c12-412c-95d2-c1081e877d50",
   "metadata": {},
   "source": [
    "### How many orders did customers perform at which hour? (Dataframe)"
   ]
  },
  {
   "cell_type": "code",
   "execution_count": 23,
   "id": "09355fc3-17c0-4ead-9285-f5e2ef19f759",
   "metadata": {},
   "outputs": [
    {
     "name": "stdout",
     "output_type": "stream",
     "text": [
      "+----+----------------+\n",
      "|HOUR|count(InvoiceNo)|\n",
      "+----+----------------+\n",
      "|  12|              23|\n",
      "|  13|              12|\n",
      "|  16|              17|\n",
      "|  15|              15|\n",
      "|   9|              18|\n",
      "|  17|               6|\n",
      "|   8|               6|\n",
      "|  10|              12|\n",
      "|  11|              13|\n",
      "|  14|              21|\n",
      "+----+----------------+\n",
      "\n"
     ]
    }
   ],
   "source": [
    "dataframe.select(hour('InvoiceDate').alias('HOUR'), 'InvoiceNo').groupby('HOUR').agg(countDistinct('InvoiceNo')).show()"
   ]
  },
  {
   "cell_type": "markdown",
   "id": "0e406f87-c452-4f18-a24e-90d38a1991e0",
   "metadata": {},
   "source": [
    "### How frequently was each product bought in different countries? (Dataframe)"
   ]
  },
  {
   "cell_type": "code",
   "execution_count": 24,
   "id": "bd54ed0a-a5c7-468d-9502-264012842349",
   "metadata": {},
   "outputs": [
    {
     "name": "stdout",
     "output_type": "stream",
     "text": [
      "+---------+---------+--------------------+--------+-------------------+---------+----------+--------------+\n",
      "|InvoiceNo|StockCode|         Description|Quantity|        InvoiceDate|UnitPrice|CustomerID|       Country|\n",
      "+---------+---------+--------------------+--------+-------------------+---------+----------+--------------+\n",
      "|   536365|   85123A|WHITE HANGING HEA...|       6|2010-12-01 08:26:00|     2.55|   17850.0|United Kingdom|\n",
      "|   536365|    71053| WHITE METAL LANTERN|       6|2010-12-01 08:26:00|     3.39|   17850.0|United Kingdom|\n",
      "|   536365|   84406B|CREAM CUPID HEART...|       8|2010-12-01 08:26:00|     2.75|   17850.0|United Kingdom|\n",
      "|   536365|   84029G|KNITTED UNION FLA...|       6|2010-12-01 08:26:00|     3.39|   17850.0|United Kingdom|\n",
      "|   536365|   84029E|RED WOOLLY HOTTIE...|       6|2010-12-01 08:26:00|     3.39|   17850.0|United Kingdom|\n",
      "|   536365|    22752|SET 7 BABUSHKA NE...|       2|2010-12-01 08:26:00|     7.65|   17850.0|United Kingdom|\n",
      "|   536365|    21730|GLASS STAR FROSTE...|       6|2010-12-01 08:26:00|     4.25|   17850.0|United Kingdom|\n",
      "|   536366|    22633|HAND WARMER UNION...|       6|2010-12-01 08:28:00|     1.85|   17850.0|United Kingdom|\n",
      "|   536366|    22632|HAND WARMER RED P...|       6|2010-12-01 08:28:00|     1.85|   17850.0|United Kingdom|\n",
      "|   536367|    84879|ASSORTED COLOUR B...|      32|2010-12-01 08:34:00|     1.69|   13047.0|United Kingdom|\n",
      "|   536367|    22745|POPPY'S PLAYHOUSE...|       6|2010-12-01 08:34:00|      2.1|   13047.0|United Kingdom|\n",
      "|   536367|    22748|POPPY'S PLAYHOUSE...|       6|2010-12-01 08:34:00|      2.1|   13047.0|United Kingdom|\n",
      "|   536367|    22749|FELTCRAFT PRINCES...|       8|2010-12-01 08:34:00|     3.75|   13047.0|United Kingdom|\n",
      "|   536367|    22310|IVORY KNITTED MUG...|       6|2010-12-01 08:34:00|     1.65|   13047.0|United Kingdom|\n",
      "|   536367|    84969|BOX OF 6 ASSORTED...|       6|2010-12-01 08:34:00|     4.25|   13047.0|United Kingdom|\n",
      "|   536367|    22623|BOX OF VINTAGE JI...|       3|2010-12-01 08:34:00|     4.95|   13047.0|United Kingdom|\n",
      "|   536367|    22622|BOX OF VINTAGE AL...|       2|2010-12-01 08:34:00|     9.95|   13047.0|United Kingdom|\n",
      "|   536367|    21754|HOME BUILDING BLO...|       3|2010-12-01 08:34:00|     5.95|   13047.0|United Kingdom|\n",
      "|   536367|    21755|LOVE BUILDING BLO...|       3|2010-12-01 08:34:00|     5.95|   13047.0|United Kingdom|\n",
      "|   536367|    21777|RECIPE BOX WITH M...|       4|2010-12-01 08:34:00|     7.95|   13047.0|United Kingdom|\n",
      "+---------+---------+--------------------+--------+-------------------+---------+----------+--------------+\n",
      "only showing top 20 rows\n",
      "\n",
      "+--------------+---------+--------+\n",
      "|       Country|StockCode|Quantity|\n",
      "+--------------+---------+--------+\n",
      "|United Kingdom|    21125|      12|\n",
      "|United Kingdom|    21794|       1|\n",
      "|United Kingdom|    21662|       3|\n",
      "|          EIRE|   85136C|       2|\n",
      "|United Kingdom|   84032A|      22|\n",
      "|United Kingdom|   84086C|       2|\n",
      "|United Kingdom|   90214H|       2|\n",
      "|United Kingdom|    22753|       9|\n",
      "|United Kingdom|    21557|       3|\n",
      "|United Kingdom|    21743|      15|\n",
      "|United Kingdom|    22488|      12|\n",
      "|United Kingdom|    22956|       4|\n",
      "|        Norway|    22531|      24|\n",
      "|United Kingdom|    22728|      13|\n",
      "|United Kingdom|    82551|       3|\n",
      "|United Kingdom|    22581|       4|\n",
      "|United Kingdom|    21671|       2|\n",
      "|United Kingdom|   90177E|       1|\n",
      "|United Kingdom|   84926A|       4|\n",
      "|United Kingdom|    20726|       2|\n",
      "+--------------+---------+--------+\n",
      "only showing top 20 rows\n",
      "\n"
     ]
    }
   ],
   "source": [
    "#Variant one\n",
    "dataframe.show()\n",
    "# dataframe.select('Country', 'StockCode', 'Quantity').groupby('Country', 'StockCode').agg(sum('Quantity').alias('Quantity')).show()\n",
    "dataframe.select('Country', 'StockCode', 'Quantity').groupby('Country', 'StockCode').sum('Quantity')\\\n",
    ".withColumnRenamed('sum(Quantity)','Quantity').show()\n",
    "# dataframe.select('Country', 'StockCode', 'Quantity').groupby('Country', 'StockCode').agg(count('Quantity').alias('Quantity')).show()"
   ]
  },
  {
   "cell_type": "code",
   "execution_count": 25,
   "id": "160f15a7-38a5-4711-ad78-5bfdf411d0ca",
   "metadata": {},
   "outputs": [
    {
     "name": "stdout",
     "output_type": "stream",
     "text": [
      "+--------------+---------+--------+\n",
      "|       Country|StockCode|Quantity|\n",
      "+--------------+---------+--------+\n",
      "|United Kingdom|    21125|      12|\n",
      "|United Kingdom|    21794|       1|\n",
      "|United Kingdom|    21662|       3|\n",
      "|          EIRE|   85136C|       2|\n",
      "|United Kingdom|   84032A|      22|\n",
      "|United Kingdom|   84086C|       2|\n",
      "|United Kingdom|   90214H|       2|\n",
      "|United Kingdom|    22753|       9|\n",
      "|United Kingdom|    21557|       3|\n",
      "|United Kingdom|    21743|      15|\n",
      "|United Kingdom|    22488|      12|\n",
      "|United Kingdom|    22956|       4|\n",
      "|        Norway|    22531|      24|\n",
      "|United Kingdom|    22728|      13|\n",
      "|United Kingdom|    82551|       3|\n",
      "|United Kingdom|    22581|       4|\n",
      "|United Kingdom|    21671|       2|\n",
      "|United Kingdom|   90177E|       1|\n",
      "|United Kingdom|   84926A|       4|\n",
      "|United Kingdom|    20726|       2|\n",
      "+--------------+---------+--------+\n",
      "only showing top 20 rows\n",
      "\n"
     ]
    }
   ],
   "source": [
    "# Variant two\n",
    "dataframe.groupby('Country', 'StockCode').agg(sum('Quantity').alias('Quantity')).show()"
   ]
  },
  {
   "cell_type": "markdown",
   "id": "997ed616-0e35-43c5-b539-472dbfa0d128",
   "metadata": {},
   "source": [
    "### Select from a datacube a slice that contains only items from the United States."
   ]
  },
  {
   "cell_type": "code",
   "execution_count": 26,
   "id": "8eb9e445-3b02-4aed-a808-67e248ac3f7d",
   "metadata": {},
   "outputs": [
    {
     "name": "stdout",
     "output_type": "stream",
     "text": [
      "+---------+---------+-----------+--------+-----------+---------+----------+-------+\n",
      "|InvoiceNo|StockCode|Description|Quantity|InvoiceDate|UnitPrice|CustomerID|Country|\n",
      "+---------+---------+-----------+--------+-----------+---------+----------+-------+\n",
      "+---------+---------+-----------+--------+-----------+---------+----------+-------+\n",
      "\n"
     ]
    }
   ],
   "source": [
    "# For slice operation, use where clause on only one column and NOT MORE\n",
    "dataframe.where(col(\"Country\") == \"United States\").show()\n",
    "# dataframe.where(col(\"Country\") == \"United Kingdom\").show()"
   ]
  },
  {
   "cell_type": "markdown",
   "id": "1794cc38-874f-46fc-9b5a-7e872f590160",
   "metadata": {},
   "source": [
    "### Dice Operation - Select a sub-cube from a datacube that contains items from United states and United Kingdom with quantities 0"
   ]
  },
  {
   "cell_type": "code",
   "execution_count": 27,
   "id": "2415634c-202b-4489-85f9-8c7542f27fca",
   "metadata": {},
   "outputs": [
    {
     "name": "stdout",
     "output_type": "stream",
     "text": [
      "+---------+---------+-----------+--------+-----------+---------+----------+-------+\n",
      "|InvoiceNo|StockCode|Description|Quantity|InvoiceDate|UnitPrice|CustomerID|Country|\n",
      "+---------+---------+-----------+--------+-----------+---------+----------+-------+\n",
      "+---------+---------+-----------+--------+-----------+---------+----------+-------+\n",
      "\n",
      "+---------+---------+-----------+--------+-----------+---------+----------+-------+\n",
      "|InvoiceNo|StockCode|Description|Quantity|InvoiceDate|UnitPrice|CustomerID|Country|\n",
      "+---------+---------+-----------+--------+-----------+---------+----------+-------+\n",
      "+---------+---------+-----------+--------+-----------+---------+----------+-------+\n",
      "\n",
      "+---------+---------+--------------------+--------+-------------------+---------+----------+--------------+\n",
      "|InvoiceNo|StockCode|         Description|Quantity|        InvoiceDate|UnitPrice|CustomerID|       Country|\n",
      "+---------+---------+--------------------+--------+-------------------+---------+----------+--------------+\n",
      "|   536532|    22554|PLASTERS IN TIN W...|      24|2010-12-01 13:24:00|     1.65|   12433.0|        Norway|\n",
      "|   536532|    22553|PLASTERS IN TIN S...|      24|2010-12-01 13:24:00|     1.65|   12433.0|        Norway|\n",
      "|   536532|    22540|MINI JIGSAW CIRCU...|      24|2010-12-01 13:24:00|     0.42|   12433.0|        Norway|\n",
      "|   536532|    22539|MINI JIGSAW DOLLY...|      24|2010-12-01 13:24:00|     0.42|   12433.0|        Norway|\n",
      "|   536532|    22534|MAGIC DRAWING SLA...|      24|2010-12-01 13:24:00|     0.42|   12433.0|        Norway|\n",
      "|   536532|    22530|MAGIC DRAWING SLA...|      24|2010-12-01 13:24:00|     0.42|   12433.0|        Norway|\n",
      "|   536532|    22531|MAGIC DRAWING SLA...|      24|2010-12-01 13:24:00|     0.42|   12433.0|        Norway|\n",
      "|   536532|    21156|RETROSPOT CHILDRE...|       8|2010-12-01 13:24:00|     1.95|   12433.0|        Norway|\n",
      "|   536532|    22865|HAND WARMER OWL D...|      12|2010-12-01 13:24:00|      2.1|   12433.0|        Norway|\n",
      "|   536532|    22114|HOT WATER BOTTLE ...|       8|2010-12-01 13:24:00|     3.95|   12433.0|        Norway|\n",
      "|   536532|    21982|PACK OF 12 SUKI T...|      48|2010-12-01 13:24:00|     0.29|   12433.0|        Norway|\n",
      "|   536532|    21981|PACK OF 12 WOODLA...|      48|2010-12-01 13:24:00|     0.29|   12433.0|        Norway|\n",
      "|   536532|    21967|PACK OF 12 SKULL ...|      48|2010-12-01 13:24:00|     0.29|   12433.0|        Norway|\n",
      "|   536532|    22092|BLUE PAISLEY TISS...|      12|2010-12-01 13:24:00|     1.25|   12433.0|        Norway|\n",
      "|   536532|    21983|PACK OF 12 BLUE P...|      48|2010-12-01 13:24:00|     0.29|   12433.0|        Norway|\n",
      "|   536532|    22615|PACK OF 12 CIRCUS...|      48|2010-12-01 13:24:00|     0.29|   12433.0|        Norway|\n",
      "|   536532|    21980|PACK OF 12 RED RE...|      48|2010-12-01 13:24:00|     0.29|   12433.0|        Norway|\n",
      "|   536532|    22614|PACK OF 12 SPACEB...|      48|2010-12-01 13:24:00|     0.29|   12433.0|        Norway|\n",
      "|   536532|    22095|LADS ONLY TISSUE BOX|      12|2010-12-01 13:24:00|     1.25|   12433.0|        Norway|\n",
      "|   536532|    22551|PLASTERS IN TIN S...|      24|2010-12-01 13:24:00|     1.65|   12433.0|        Norway|\n",
      "|   536532|    22444|GROW YOUR OWN PLA...|      96|2010-12-01 13:24:00|     1.06|   12433.0|        Norway|\n",
      "|   536532|    22547|MINI JIGSAW DINOS...|      24|2010-12-01 13:24:00|     0.42|   12433.0|        Norway|\n",
      "|   536532|    22544|MINI JIGSAW SPACEBOY|      24|2010-12-01 13:24:00|     0.42|   12433.0|        Norway|\n",
      "|   536532|    22543|MINI JIGSAW BAKE ...|      24|2010-12-01 13:24:00|     0.42|   12433.0|        Norway|\n",
      "|   536532|    22899|CHILDREN'S APRON ...|       8|2010-12-01 13:24:00|      2.1|   12433.0|        Norway|\n",
      "|   536532|    84050|PINK HEART SHAPE ...|      72|2010-12-01 13:24:00|     1.25|   12433.0|        Norway|\n",
      "|   536532|    84991|60 TEATIME FAIRY ...|      24|2010-12-01 13:24:00|     0.55|   12433.0|        Norway|\n",
      "|   536532|    84992|72 SWEETHEART FAI...|      24|2010-12-01 13:24:00|     0.55|   12433.0|        Norway|\n",
      "|   536532|    21213|PACK OF 72 SKULL ...|      24|2010-12-01 13:24:00|     0.55|   12433.0|        Norway|\n",
      "|   536532|    21977|PACK OF 60 PINK P...|      24|2010-12-01 13:24:00|     0.55|   12433.0|        Norway|\n",
      "|   536532|    21212|PACK OF 72 RETROS...|      24|2010-12-01 13:24:00|     0.55|   12433.0|        Norway|\n",
      "|   536532|    22198|LARGE POPCORN HOL...|      48|2010-12-01 13:24:00|     1.65|   12433.0|        Norway|\n",
      "|   536532|    22197|SMALL POPCORN HOLDER|      72|2010-12-01 13:24:00|     0.85|   12433.0|        Norway|\n",
      "|   536532|    22315|200 RED + WHITE B...|      12|2010-12-01 13:24:00|     1.25|   12433.0|        Norway|\n",
      "|   536532|    22667|RECIPE BOX RETROS...|      12|2010-12-01 13:24:00|     2.95|   12433.0|        Norway|\n",
      "|   536532|    22666|RECIPE BOX PANTRY...|      12|2010-12-01 13:24:00|     2.95|   12433.0|        Norway|\n",
      "|   536532|    22665|RECIPE BOX BLUE S...|      12|2010-12-01 13:24:00|     2.95|   12433.0|        Norway|\n",
      "|   536532|    22558|CLOTHES PEGS RETR...|      24|2010-12-01 13:24:00|     1.49|   12433.0|        Norway|\n",
      "|   536532|    22567|20 DOLLY PEGS RET...|      24|2010-12-01 13:24:00|     1.25|   12433.0|        Norway|\n",
      "|   536532|    85150|LADIES & GENTLEME...|      12|2010-12-01 13:24:00|     2.55|   12433.0|        Norway|\n",
      "|   536532|    21166|COOK WITH WINE ME...|      12|2010-12-01 13:24:00|     1.95|   12433.0|        Norway|\n",
      "|   536532|    85152|HAND OVER THE CHO...|      24|2010-12-01 13:24:00|      2.1|   12433.0|        Norway|\n",
      "|   536532|    82600|NO SINGING METAL ...|      24|2010-12-01 13:24:00|      2.1|   12433.0|        Norway|\n",
      "|   536532|    21733|RED HANGING HEART...|       6|2010-12-01 13:24:00|     2.95|   12433.0|        Norway|\n",
      "|   536532|    20685|DOORMAT RED RETRO...|       2|2010-12-01 13:24:00|     7.95|   12433.0|        Norway|\n",
      "|   536532|    22842|BISCUIT TIN VINTA...|       6|2010-12-01 13:24:00|     6.75|   12433.0|        Norway|\n",
      "|   536532|    22494|EMERGENCY FIRST A...|      24|2010-12-01 13:24:00|     1.25|   12433.0|        Norway|\n",
      "|   536532|    21260|       FIRST AID TIN|      12|2010-12-01 13:24:00|     3.25|   12433.0|        Norway|\n",
      "|   536532|    22094|RED RETROSPOT TIS...|      12|2010-12-01 13:24:00|     1.25|   12433.0|        Norway|\n",
      "|   536532|    22561|WOODEN SCHOOL COL...|      24|2010-12-01 13:24:00|     1.65|   12433.0|        Norway|\n",
      "|   536532|    21984|PACK OF 12 PINK P...|      48|2010-12-01 13:24:00|     0.29|   12433.0|        Norway|\n",
      "|   536532|    22489|PACK OF 12 TRADIT...|      24|2010-12-01 13:24:00|     0.42|   12433.0|        Norway|\n",
      "|   536532|    22557|PLASTERS IN TIN V...|      36|2010-12-01 13:24:00|     1.65|   12433.0|        Norway|\n",
      "|   536532|    84692|BOX OF 24 COCKTAI...|      50|2010-12-01 13:24:00|     0.42|   12433.0|        Norway|\n",
      "|   536532|    21786|  POLKADOT RAIN HAT |      24|2010-12-01 13:24:00|     0.42|   12433.0|        Norway|\n",
      "|   536532|    22814|   CARD PARTY GAMES |      12|2010-12-01 13:24:00|     0.42|   12433.0|        Norway|\n",
      "|   536532|    21080|SET/20 RED RETROS...|      36|2010-12-01 13:24:00|     0.85|   12433.0|        Norway|\n",
      "|   536532|    22556|PLASTERS IN TIN C...|      24|2010-12-01 13:24:00|     1.65|   12433.0|        Norway|\n",
      "|   536532|    22963|JAM JAR WITH GREE...|      12|2010-12-01 13:24:00|     0.85|   12433.0|        Norway|\n",
      "|   536532|    21520|BOOZE & WOMEN GRE...|      12|2010-12-01 13:24:00|     0.42|   12433.0|        Norway|\n",
      "|   536532|    22962|JAM JAR WITH PINK...|      12|2010-12-01 13:24:00|     0.85|   12433.0|        Norway|\n",
      "|   536532|    22961|JAM MAKING SET PR...|      24|2010-12-01 13:24:00|     1.45|   12433.0|        Norway|\n",
      "|   536532|    21506|FANCY FONT BIRTHD...|      12|2010-12-01 13:24:00|     0.42|   12433.0|        Norway|\n",
      "|   536532|    84375|SET OF 20 KIDS CO...|      24|2010-12-01 13:24:00|      2.1|   12433.0|        Norway|\n",
      "|   536532|    22966|GINGERBREAD MAN C...|      24|2010-12-01 13:24:00|     1.25|   12433.0|        Norway|\n",
      "|   536532|    22716|  CARD CIRCUS PARADE|      12|2010-12-01 13:24:00|     0.42|   12433.0|        Norway|\n",
      "|   536532|    21874|   GIN AND TONIC MUG|      24|2010-12-01 13:24:00|     1.25|   12433.0|        Norway|\n",
      "|   536532|    21873|IF YOU CAN'T STAN...|      24|2010-12-01 13:24:00|     1.25|   12433.0|        Norway|\n",
      "|   536532|    22866|HAND WARMER SCOTT...|      12|2010-12-01 13:24:00|      2.1|   12433.0|        Norway|\n",
      "|   536532|    21870|I CAN ONLY PLEASE...|      24|2010-12-01 13:24:00|     1.25|   12433.0|        Norway|\n",
      "|   536532|    22555|PLASTERS IN TIN S...|      36|2010-12-01 13:24:00|     1.65|   12433.0|        Norway|\n",
      "|   536532|    22956|36 FOIL HEART CAK...|      12|2010-12-01 13:24:00|      2.1|   12433.0|        Norway|\n",
      "|   536532|    22632|HAND WARMER RED R...|      12|2010-12-01 13:24:00|      2.1|   12433.0|        Norway|\n",
      "|   536365|   85123A|WHITE HANGING HEA...|       6|2010-12-01 08:26:00|     2.55|   17850.0|United Kingdom|\n",
      "|   536365|    71053| WHITE METAL LANTERN|       6|2010-12-01 08:26:00|     3.39|   17850.0|United Kingdom|\n",
      "|   536368|    22913|RED COAT RACK PAR...|       3|2010-12-01 08:34:00|     4.95|   13047.0|United Kingdom|\n",
      "|   536365|   84406B|CREAM CUPID HEART...|       8|2010-12-01 08:26:00|     2.75|   17850.0|United Kingdom|\n",
      "|   536365|    21730|GLASS STAR FROSTE...|       6|2010-12-01 08:26:00|     4.25|   17850.0|United Kingdom|\n",
      "|   536368|    22912|YELLOW COAT RACK ...|       3|2010-12-01 08:34:00|     4.95|   13047.0|United Kingdom|\n",
      "|   536365|   84029G|KNITTED UNION FLA...|       6|2010-12-01 08:26:00|     3.39|   17850.0|United Kingdom|\n",
      "|   536366|    22633|HAND WARMER UNION...|       6|2010-12-01 08:28:00|     1.85|   17850.0|United Kingdom|\n",
      "|   536367|    84969|BOX OF 6 ASSORTED...|       6|2010-12-01 08:34:00|     4.25|   13047.0|United Kingdom|\n",
      "|   536368|    22914|BLUE COAT RACK PA...|       3|2010-12-01 08:34:00|     4.95|   13047.0|United Kingdom|\n",
      "|   536365|   84029E|RED WOOLLY HOTTIE...|       6|2010-12-01 08:26:00|     3.39|   17850.0|United Kingdom|\n",
      "|   536366|    22632|HAND WARMER RED P...|       6|2010-12-01 08:28:00|     1.85|   17850.0|United Kingdom|\n",
      "|   536367|    22745|POPPY'S PLAYHOUSE...|       6|2010-12-01 08:34:00|      2.1|   13047.0|United Kingdom|\n",
      "|   536367|    22623|BOX OF VINTAGE JI...|       3|2010-12-01 08:34:00|     4.95|   13047.0|United Kingdom|\n",
      "|   536367|    21755|LOVE BUILDING BLO...|       3|2010-12-01 08:34:00|     5.95|   13047.0|United Kingdom|\n",
      "|   536369|    21756|BATH BUILDING BLO...|       3|2010-12-01 08:35:00|     5.95|   13047.0|United Kingdom|\n",
      "|   536371|    22086|PAPER CHAIN KIT 5...|      80|2010-12-01 09:00:00|     2.55|   13748.0|United Kingdom|\n",
      "|   536365|    22752|SET 7 BABUSHKA NE...|       2|2010-12-01 08:26:00|     7.65|   17850.0|United Kingdom|\n",
      "|   536367|    84879|ASSORTED COLOUR B...|      32|2010-12-01 08:34:00|     1.69|   13047.0|United Kingdom|\n",
      "|   536367|    22748|POPPY'S PLAYHOUSE...|       6|2010-12-01 08:34:00|      2.1|   13047.0|United Kingdom|\n",
      "|   536367|    22749|FELTCRAFT PRINCES...|       8|2010-12-01 08:34:00|     3.75|   13047.0|United Kingdom|\n",
      "|   536367|    22622|BOX OF VINTAGE AL...|       2|2010-12-01 08:34:00|     9.95|   13047.0|United Kingdom|\n",
      "|   536367|    21777|RECIPE BOX WITH M...|       4|2010-12-01 08:34:00|     7.95|   13047.0|United Kingdom|\n",
      "|   536367|    48187| DOORMAT NEW ENGLAND|       4|2010-12-01 08:34:00|     7.95|   13047.0|United Kingdom|\n",
      "|   536372|    22632|HAND WARMER RED P...|       6|2010-12-01 09:01:00|     1.85|   17850.0|United Kingdom|\n",
      "|   536367|    22310|IVORY KNITTED MUG...|       6|2010-12-01 08:34:00|     1.65|   13047.0|United Kingdom|\n",
      "|   536367|    21754|HOME BUILDING BLO...|       3|2010-12-01 08:34:00|     5.95|   13047.0|United Kingdom|\n",
      "+---------+---------+--------------------+--------+-------------------+---------+----------+--------------+\n",
      "only showing top 100 rows\n",
      "\n"
     ]
    }
   ],
   "source": [
    "dataframe.where((col(\"Country\") == \"United States\") | (col(\"Country\") == \"United Kingdom\")).where(col(\"Quantity\") == 0).show()\n",
    "dataframe.filter(((col(\"Country\") == \"United States\") | (col(\"Country\") == \"United Kingdom\") & (col(\"Quantity\") == 0))).show()\n",
    "\n",
    "# dataframe.filter(\"Country IN ('Norway', 'United Kingdom') AND Quantity > 0\").orderBy(\"Country\",ascending=True).show(100)\n",
    "dataframe.filter(\"Country IN ('Norway', 'United Kingdom') AND Quantity > 0\").sort(\"Country\",ascending=True).show(100)"
   ]
  },
  {
   "cell_type": "code",
   "execution_count": 28,
   "id": "26dec62f-66d4-42eb-a877-f0c4192c1f1b",
   "metadata": {},
   "outputs": [
    {
     "name": "stdout",
     "output_type": "stream",
     "text": [
      "+---------+---------+-----------+--------+-----------+---------+----------+-------+\n",
      "|InvoiceNo|StockCode|Description|Quantity|InvoiceDate|UnitPrice|CustomerID|Country|\n",
      "+---------+---------+-----------+--------+-----------+---------+----------+-------+\n",
      "+---------+---------+-----------+--------+-----------+---------+----------+-------+\n",
      "\n"
     ]
    }
   ],
   "source": [
    "dataframe.where(((col(\"Country\") == \"United States\") | (col(\"Country\") == \"United Kingdom\")) & (col(\"Quantity\") == 0)).show()"
   ]
  },
  {
   "cell_type": "markdown",
   "id": "51e38e02-2e52-4eb6-afcb-32ebfa479223",
   "metadata": {},
   "source": [
    "### Which of the following codes peforms a rollup from a datacube?"
   ]
  },
  {
   "cell_type": "code",
   "execution_count": 29,
   "id": "cedc83aa-ada0-4fc1-8927-dcb5e1274048",
   "metadata": {},
   "outputs": [
    {
     "name": "stdout",
     "output_type": "stream",
     "text": [
      "+---------+--------------+-----------------+\n",
      "|StockCode|       Country|positive quantity|\n",
      "+---------+--------------+-----------------+\n",
      "|   85123A|United Kingdom|             true|\n",
      "|    71053|United Kingdom|             true|\n",
      "|   84406B|United Kingdom|             true|\n",
      "|   84029G|United Kingdom|             true|\n",
      "|   84029E|United Kingdom|             true|\n",
      "|    22752|United Kingdom|             true|\n",
      "|    21730|United Kingdom|             true|\n",
      "|    22633|United Kingdom|             true|\n",
      "|    22632|United Kingdom|             true|\n",
      "|    84879|United Kingdom|             true|\n",
      "|    22745|United Kingdom|             true|\n",
      "|    22748|United Kingdom|             true|\n",
      "|    22749|United Kingdom|             true|\n",
      "|    22310|United Kingdom|             true|\n",
      "|    84969|United Kingdom|             true|\n",
      "|    22623|United Kingdom|             true|\n",
      "|    22622|United Kingdom|             true|\n",
      "|    21754|United Kingdom|             true|\n",
      "|    21755|United Kingdom|             true|\n",
      "|    21777|United Kingdom|             true|\n",
      "+---------+--------------+-----------------+\n",
      "only showing top 20 rows\n",
      "\n"
     ]
    }
   ],
   "source": [
    "dataframe.select(\"StockCode\", \"Country\", (col(\"Quantity\") > 0).alias(\"positive quantity\")).show()"
   ]
  },
  {
   "cell_type": "code",
   "execution_count": 30,
   "id": "55be8520-1d2c-47d8-b63a-0e2099b559d8",
   "metadata": {},
   "outputs": [
    {
     "name": "stdout",
     "output_type": "stream",
     "text": [
      "+---------+---------+--------------------+--------+-------------------+---------+----------+--------------+\n",
      "|InvoiceNo|StockCode|         Description|Quantity|        InvoiceDate|UnitPrice|CustomerID|       Country|\n",
      "+---------+---------+--------------------+--------+-------------------+---------+----------+--------------+\n",
      "|   536365|   85123A|WHITE HANGING HEA...|       6|2010-12-01 08:26:00|     2.55|   17850.0|United Kingdom|\n",
      "|   536365|    71053| WHITE METAL LANTERN|       6|2010-12-01 08:26:00|     3.39|   17850.0|United Kingdom|\n",
      "|   536365|   84406B|CREAM CUPID HEART...|       8|2010-12-01 08:26:00|     2.75|   17850.0|United Kingdom|\n",
      "|   536365|   84029G|KNITTED UNION FLA...|       6|2010-12-01 08:26:00|     3.39|   17850.0|United Kingdom|\n",
      "|   536365|   84029E|RED WOOLLY HOTTIE...|       6|2010-12-01 08:26:00|     3.39|   17850.0|United Kingdom|\n",
      "|   536365|    22752|SET 7 BABUSHKA NE...|       2|2010-12-01 08:26:00|     7.65|   17850.0|United Kingdom|\n",
      "|   536365|    21730|GLASS STAR FROSTE...|       6|2010-12-01 08:26:00|     4.25|   17850.0|United Kingdom|\n",
      "|   536366|    22633|HAND WARMER UNION...|       6|2010-12-01 08:28:00|     1.85|   17850.0|United Kingdom|\n",
      "|   536366|    22632|HAND WARMER RED P...|       6|2010-12-01 08:28:00|     1.85|   17850.0|United Kingdom|\n",
      "|   536367|    84879|ASSORTED COLOUR B...|      32|2010-12-01 08:34:00|     1.69|   13047.0|United Kingdom|\n",
      "|   536367|    22745|POPPY'S PLAYHOUSE...|       6|2010-12-01 08:34:00|      2.1|   13047.0|United Kingdom|\n",
      "|   536367|    22748|POPPY'S PLAYHOUSE...|       6|2010-12-01 08:34:00|      2.1|   13047.0|United Kingdom|\n",
      "|   536367|    22749|FELTCRAFT PRINCES...|       8|2010-12-01 08:34:00|     3.75|   13047.0|United Kingdom|\n",
      "|   536367|    22310|IVORY KNITTED MUG...|       6|2010-12-01 08:34:00|     1.65|   13047.0|United Kingdom|\n",
      "|   536367|    84969|BOX OF 6 ASSORTED...|       6|2010-12-01 08:34:00|     4.25|   13047.0|United Kingdom|\n",
      "|   536367|    22623|BOX OF VINTAGE JI...|       3|2010-12-01 08:34:00|     4.95|   13047.0|United Kingdom|\n",
      "|   536367|    22622|BOX OF VINTAGE AL...|       2|2010-12-01 08:34:00|     9.95|   13047.0|United Kingdom|\n",
      "|   536367|    21754|HOME BUILDING BLO...|       3|2010-12-01 08:34:00|     5.95|   13047.0|United Kingdom|\n",
      "|   536367|    21755|LOVE BUILDING BLO...|       3|2010-12-01 08:34:00|     5.95|   13047.0|United Kingdom|\n",
      "|   536367|    21777|RECIPE BOX WITH M...|       4|2010-12-01 08:34:00|     7.95|   13047.0|United Kingdom|\n",
      "+---------+---------+--------------------+--------+-------------------+---------+----------+--------------+\n",
      "only showing top 20 rows\n",
      "\n"
     ]
    }
   ],
   "source": [
    "dataframe.where(col(\"Quantity\") > 0).show()"
   ]
  }
 ],
 "metadata": {
  "kernelspec": {
   "display_name": "Python 3 (ipykernel)",
   "language": "python",
   "name": "python3"
  },
  "language_info": {
   "codemirror_mode": {
    "name": "ipython",
    "version": 3
   },
   "file_extension": ".py",
   "mimetype": "text/x-python",
   "name": "python",
   "nbconvert_exporter": "python",
   "pygments_lexer": "ipython3",
   "version": "3.9.7"
  }
 },
 "nbformat": 4,
 "nbformat_minor": 5
}
